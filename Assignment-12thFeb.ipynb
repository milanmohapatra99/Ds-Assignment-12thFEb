{
 "cells": [
  {
   "cell_type": "markdown",
   "id": "a38abf6c-4fd8-4ff3-8dd1-47d33738e874",
   "metadata": {},
   "source": [
    "Que:1. What is an exception in python ? Write the difference between Exception and syntax errors."
   ]
  },
  {
   "cell_type": "markdown",
   "id": "04f4cb35-988a-4754-a37d-f9f6e08ec84f",
   "metadata": {},
   "source": [
    "Ans:-\n",
    "Exception: An exception is an event, which occurs during the execution of a program that disrupts the normal flow of the program's instructions. \n",
    "In general, when a Python script encounters a situation that it cannot cope with, it raises an exception. An exception is a Python object that represents an error.\n",
    "\n",
    "Syntax errors :-\n",
    "Syntax errors are mistakes in the use of the Python language, and are analogous to spelling or grammar mistakes in a language.\n",
    "\n",
    "\n",
    "Difference between Exception and syntax error:-\n",
    "\n",
    "Syntax error:\n",
    "A syntax error occurs when the structure of a program does not conform to the rules of the programming language. Syntax errors are usually detected by the compiler or interpreter when the program is being compiled or executed, and they prevent the program from running. Syntax errors are usually caused by mistakes in the source code, such as typos, omissions, or incorrect use of syntax.\n",
    "\n",
    "Exception:-\n",
    "An exception is an abnormal event that occurs during the execution of a program. Exceptions are usually caused by runtime errors, such as dividing by zero, trying to access an element in an array with an out-of-bounds index, or trying to access a file that does not exist. Exceptions are not syntax errors, but they can still prevent the program from running if they are not handled properly.\n",
    "\n",
    "In many programming languages, exceptions are handled using try-catch blocks. When an exception is thrown, the program will try to execute the code in the catch block, which can handle the exception and allow the program to continue running. If the exception is not caught, the program will terminate.\n",
    "\n",
    "Conclusion:-\n",
    "a syntax error is a mistake in the structure of the program that prevents it from running, while an exception is an abnormal event that occurs during the execution of the program and can be handled to allow the program to continue running."
   ]
  },
  {
   "cell_type": "markdown",
   "id": "68aad015-c5ff-4af1-83bb-5f1fc2ecc62b",
   "metadata": {},
   "source": [
    "Que : 2. WHAT HAPPENS WHEN AN EXCEPTION IS NOT HANDLED? EXPLAIN WITH AN EXAMPLE."
   ]
  },
  {
   "cell_type": "markdown",
   "id": "08262b7a-fdf8-48e6-a305-9478f1e861c9",
   "metadata": {},
   "source": [
    "Ans:-\n",
    "If an exception occurs during execution of the try clause, the exception may be handled by an except clause. If the exception is not handled by an except clause, the exception is re-raised after the finally clause has been executed.\n",
    "\n",
    "e.g:-\n",
    "\n",
    "try:\n",
    "    f = open(\"testfile\", \"w\")\n",
    "    f.write(\"This is my test file for exception handling!!\")\n",
    "    \n",
    "except IOError:\n",
    "    logging.Error: \"can\\'t find file or read data\")\n",
    "    \n",
    "else:\n",
    "    logging.info(\"Written content in the file successfully\")\n",
    "    f.close()\n"
   ]
  },
  {
   "cell_type": "markdown",
   "id": "f4bc8e12-494d-4613-b267-da80b27fb978",
   "metadata": {},
   "source": [
    "Que:3. Which python statements are used to catch and handle exception?Explain with an example."
   ]
  },
  {
   "cell_type": "markdown",
   "id": "58e21d0f-66b1-42ee-b7d4-f4c6db4a0180",
   "metadata": {},
   "source": [
    "Ans:-The try and except block in Python is used to catch and handle exceptions. Python executes code following the try statement as a “normal” part of the program. The code that follows the except statement is the program's response to any exceptions in the preceding try clause.\n",
    "\n",
    "when syntactically correct code runs into an error, Python will throw an exception error. This exception error will crash the program if it is unhandled. The except clause determines how your program responds to exceptions.\n",
    "\n",
    "\n",
    "e.g:-\n",
    "a = [1, 2, 3]\n",
    "try: \n",
    "    print (\"Second element = %d\" %(a[1]))\n",
    "  \n",
    "    # Throws error since there are only 3 elements in array\n",
    "    print (\"Fourth element = %d\" %(a[3]))\n",
    "  \n",
    " except:\n",
    "    print (\"An error occurred\")"
   ]
  },
  {
   "cell_type": "markdown",
   "id": "38d6aee6-d7ba-455b-ae60-304bd5642d75",
   "metadata": {},
   "source": [
    "Que:4. Explain with an example:\n",
    "    \n",
    "    a.try and else\n",
    "    b. finally\n",
    "    c. raise"
   ]
  },
  {
   "cell_type": "markdown",
   "id": "d1cf7b50-b90e-46fa-a2ab-3bc15b617831",
   "metadata": {},
   "source": [
    "Ans:-\n",
    "a .try and else :-\n",
    "  Try: This block will test the excepted error to occur.\n",
    "\n",
    "  Else: The code enters the else block only if the try clause does not raise an exception.\n",
    "\n",
    "e.g:- \n",
    "def divide(x, y):\n",
    "    try:\n",
    "        result = x // y\n",
    "    except ZeroDivisionError:\n",
    "        print(\"Sorry ! You are dividing by zero \")\n",
    "    else:\n",
    "        print(\"Yeah ! Your answer is :\", result)\n",
    "divide(3, 2)\n",
    "divide(3, 0)\n",
    "\n",
    "b. finally :-\n",
    "\n",
    "     finallykeyword which is always executed after try and except blocks. The finally block always executes after normal termination of try block or after try block terminates due to some exception. Even if you return in\n",
    "the except block still the finally block will execute.\n",
    "\n",
    "e.g:-\n",
    "\n",
    "def divide(x, y):\n",
    "    try:\n",
    "       \n",
    "        result = x // y\n",
    "    except ZeroDivisionError:\n",
    "        print(\"Sorry ! You are dividing by zero \")\n",
    "    else:\n",
    "        print(\"Yeah ! Your answer is :\", result)\n",
    "    finally: \n",
    "        # this block is always executed  \n",
    "        # regardless of exception generation. \n",
    "        print('This is always executed')  \n",
    "divide(3, 2)\n",
    "divide(3, 0)\n",
    "\n",
    "c. raise:- \n",
    "      The raise keyword is used to raise an exception.\n",
    "    \n",
    "    e.g:-\n",
    "    x = \"Datascience\"\n",
    "\n",
    "    if not type(x) is int:\n",
    "        raise TypeError(\"Only integers are allowed\")"
   ]
  },
  {
   "cell_type": "markdown",
   "id": "5f845ad1-ed18-45d2-b249-7604e89b0326",
   "metadata": {},
   "source": [
    "Que:5.What are custom Exception in python?Why do we need custom exception? Explain with an example."
   ]
  },
  {
   "cell_type": "markdown",
   "id": "a283e5b6-e978-4dac-baea-ba9f207e32eb",
   "metadata": {},
   "source": [
    "Ans:- \n",
    "Custom Exception:-\n",
    "\n",
    "custom exceptions by creating a new class that is derived from the built-in Exception class. Here's the syntax to define custom exceptions, class CustomError(Exception): ... pass try: ... except CustomError: ...\n",
    "\n",
    "\n",
    "Because using custom exceptions can help us improve this even more, especially when we are designing our package. If you decide to avoid, at all costs, custom exceptions by using only \n",
    "built-in ones, you risk decreasing Python's readability.\n",
    "\n",
    "\n",
    "\n",
    "Custom exception example:\n",
    "    \n",
    "Suppose you need to develop a program that converts a temperature from Fahrenheit to Celsius.\n",
    "\n",
    "The minimum and maximum values of a temperature in Fahrenheit are 32 and 212. If users enter a value that is not in this range, you want to raise a custom exception e.g., FahrenheitError.\n",
    "\n",
    "\n",
    "class FahrenheitError(Exception):\n",
    "    min_f = 32\n",
    "    max_f = 212\n",
    "\n",
    "    def __init__(self, f, *args):\n",
    "        super().__init__(args)\n",
    "        self.f = f\n",
    "\n",
    "    def __str__(self):\n",
    "        return f'The {self.f} is not in a valid range {self.min_f, self.max_f}'"
   ]
  },
  {
   "cell_type": "markdown",
   "id": "d64dc703-fed1-4b9a-9ee9-2bbffdded84e",
   "metadata": {},
   "source": [
    "Que:6. Create a custom exception class.Use this class to handle an exception."
   ]
  },
  {
   "cell_type": "code",
   "execution_count": 1,
   "id": "a1d43fd4-6cc8-4591-9d6f-85600c240f99",
   "metadata": {},
   "outputs": [
    {
     "name": "stdout",
     "output_type": "stream",
     "text": [
      "calling str\n"
     ]
    },
    {
     "ename": "MyCustomError",
     "evalue": "MyCustomError, We have a problem ",
     "output_type": "error",
     "traceback": [
      "\u001b[0;31m---------------------------------------------------------------------------\u001b[0m",
      "\u001b[0;31mMyCustomError\u001b[0m                             Traceback (most recent call last)",
      "Cell \u001b[0;32mIn [1], line 18\u001b[0m\n\u001b[1;32m     13\u001b[0m             \u001b[38;5;28;01mreturn\u001b[39;00m \u001b[38;5;124m'\u001b[39m\u001b[38;5;124mMyCustomError has been raised\u001b[39m\u001b[38;5;124m'\u001b[39m\n\u001b[1;32m     16\u001b[0m \u001b[38;5;66;03m# raise MyCustomError\u001b[39;00m\n\u001b[0;32m---> 18\u001b[0m \u001b[38;5;28;01mraise\u001b[39;00m MyCustomError(\u001b[38;5;124m'\u001b[39m\u001b[38;5;124mWe have a problem\u001b[39m\u001b[38;5;124m'\u001b[39m)\n",
      "\u001b[0;31mMyCustomError\u001b[0m: MyCustomError, We have a problem "
     ]
    },
    {
     "name": "stdout",
     "output_type": "stream",
     "text": [
      "calling str\n",
      "calling str\n"
     ]
    }
   ],
   "source": [
    "class MyCustomError(Exception):\n",
    "    def __init__(self, *args):\n",
    "        if args:\n",
    "            self.message = args[0]\n",
    "        else:\n",
    "            self.message = None\n",
    "\n",
    "    def __str__(self):\n",
    "        print('calling str')\n",
    "        if self.message:\n",
    "            return 'MyCustomError, {0} '.format(self.message)\n",
    "        else:\n",
    "            return 'MyCustomError has been raised'\n",
    "\n",
    "\n",
    "# raise MyCustomError\n",
    "\n",
    "raise MyCustomError('We have a problem')"
   ]
  },
  {
   "cell_type": "code",
   "execution_count": null,
   "id": "e51b6c00-1663-4e81-bda1-ec2e1e5367f4",
   "metadata": {},
   "outputs": [],
   "source": []
  }
 ],
 "metadata": {
  "kernelspec": {
   "display_name": "Python 3 (ipykernel)",
   "language": "python",
   "name": "python3"
  },
  "language_info": {
   "codemirror_mode": {
    "name": "ipython",
    "version": 3
   },
   "file_extension": ".py",
   "mimetype": "text/x-python",
   "name": "python",
   "nbconvert_exporter": "python",
   "pygments_lexer": "ipython3",
   "version": "3.10.6"
  }
 },
 "nbformat": 4,
 "nbformat_minor": 5
}
